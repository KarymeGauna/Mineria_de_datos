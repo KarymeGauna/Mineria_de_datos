{
 "cells": [
  {
   "cell_type": "code",
   "execution_count": 147,
   "metadata": {},
   "outputs": [],
   "source": [
    "#UNIVERSIDAD AUTÓNOMA DE NUEVO LEÓN\n",
    "#FACULTAD DE CIENCIAS FÍSICO MATEMÁTICAS\n",
    "#MÍNERÍA DE DATOS\n",
    "\n",
    "#MAESTRA:MAYRA BERRONES\n",
    "#ALUMNA:KARYME MAYELA GAUNA RODRÍGUEZ\n",
    "#MATRÍCULA:1819032\n",
    "\n",
    "#GRUPO:003\n",
    "\n",
    "\n",
    "#EJERCICIOS BÁSICOS DE PYTHON\n"
   ]
  },
  {
   "cell_type": "code",
   "execution_count": 2,
   "metadata": {},
   "outputs": [],
   "source": [
    "#EJERCICIO 1\n",
    "#Realiza una variable con tu matricula y realiza una secuencia de imprimir con tu nombre y tu matrícula concatenados\n"
   ]
  },
  {
   "cell_type": "code",
   "execution_count": 3,
   "metadata": {},
   "outputs": [
    {
     "name": "stdout",
     "output_type": "stream",
     "text": [
      "Karyme Mayela Gauna Rodríguez 1819032\n"
     ]
    }
   ],
   "source": [
    "Matrícula=1819032\n",
    "Nombre = 'Karyme Mayela Gauna Rodríguez'\n",
    "print(Nombre, Matrícula)"
   ]
  },
  {
   "cell_type": "code",
   "execution_count": 4,
   "metadata": {},
   "outputs": [],
   "source": [
    "#EJERCICIO 2\n",
    "#Pidiendo el input del usuario, pide dos numeros y crea una pequeña calculadora con operadores básicos de suma, resta, multiplicacción, division y exponente"
   ]
  },
  {
   "cell_type": "code",
   "execution_count": 7,
   "metadata": {},
   "outputs": [
    {
     "name": "stdout",
     "output_type": "stream",
     "text": [
      "Introduce el primer número:6\n",
      "Introduce el segundo número:5\n",
      "La suma de los dos numeros es 11.0\n",
      "La resta de los dos numeros es 1.0\n",
      "La multiplicación de los dos numeros es 30.0\n",
      "La división de los dos numeros es 1.2\n",
      "El exponente de los dos numeros es 7776.0\n"
     ]
    }
   ],
   "source": [
    "x=float(input(\"Introduce el primer número:\"))\n",
    "y=float(input(\"Introduce el segundo número:\"))\n",
    "Suma=x+y\n",
    "print(\"La suma de los dos numeros es\", Suma)\n",
    "Resta= x-y\n",
    "print(\"La resta de los dos numeros es\", Resta)\n",
    "Multiplicación= x*y\n",
    "print(\"La multiplicación de los dos numeros es\", Multiplicación)\n",
    "División = x/y\n",
    "print(\"La división de los dos numeros es\", División)\n",
    "Exponente = x**y\n",
    "print(\"El exponente de los dos numeros es\", Exponente)\n"
   ]
  },
  {
   "cell_type": "code",
   "execution_count": 8,
   "metadata": {},
   "outputs": [],
   "source": [
    "#EJERCICIO 3\n",
    "#Con loop while o for, realiza una lista de 10 números multiplos de 3, y después realiza una función de loop que sume todos los números dentro del arreglo \n"
   ]
  },
  {
   "cell_type": "code",
   "execution_count": 15,
   "metadata": {},
   "outputs": [
    {
     "name": "stdout",
     "output_type": "stream",
     "text": [
      "Introduzca el primer múltiplo 3\n",
      "Estos son los múltiplos de tres\n",
      "3\n",
      "6\n",
      "9\n",
      "12\n",
      "15\n",
      "18\n",
      "21\n",
      "24\n",
      "27\n",
      "30\n",
      "Estas son las sumas de los números\n",
      "3\n",
      "9\n",
      "18\n",
      "30\n",
      "45\n",
      "63\n",
      "84\n",
      "108\n",
      "135\n",
      "165\n"
     ]
    }
   ],
   "source": [
    "digito=int(input(\"Introduzca el primer múltiplo\"))\n",
    "print(\"Estos son los múltiplos de tres\")\n",
    "for i in range(1,11):\n",
    " numero=i*digito\n",
    " print(numero)\n",
    "print(\"Estas son las sumas de los números\")\n",
    "suma=0\n",
    "for i in range(1,11):\n",
    "    suma=suma+(i*digito)\n",
    "    print(suma)\n",
    "\n"
   ]
  },
  {
   "cell_type": "code",
   "execution_count": null,
   "metadata": {},
   "outputs": [],
   "source": [
    "#EJERCICIO 4\n",
    "# Con una función if else, revisar si un número es par o es impar con una función if else revisar si un número es primo o no "
   ]
  },
  {
   "cell_type": "code",
   "execution_count": 32,
   "metadata": {},
   "outputs": [
    {
     "name": "stdout",
     "output_type": "stream",
     "text": [
      "Introduce el número:1\n",
      "El número 1 es impar\n",
      "El número 1 es primo\n"
     ]
    }
   ],
   "source": [
    "num= int(input(\"Introduce el número:\"))\n",
    "if num % 2 ==0:\n",
    "    print(\"El número\", num, \"es par\")\n",
    "else:\n",
    "    print(\"El número\", num, \"es impar\")\n",
    "m=range(2,num)\n",
    "c=0\n",
    "for n in m:\n",
    "    if num %n==0:\n",
    "        c+=1\n",
    "        if c>0:\n",
    "          print(\"El número\", num, \"no es primo\")\n",
    "else:\n",
    "    print(\"El número\", num, \"es primo\")"
   ]
  },
  {
   "cell_type": "code",
   "execution_count": null,
   "metadata": {},
   "outputs": [],
   "source": [
    "##EJERCICIO 5\n",
    "#utilizando diferentes clases de python crea una calculadora con operadores básicos de suma, resta, multiplicación, división y exponente"
   ]
  },
  {
   "cell_type": "code",
   "execution_count": 45,
   "metadata": {},
   "outputs": [
    {
     "ename": "IndentationError",
     "evalue": "expected an indented block (<ipython-input-45-738ad0d65809>, line 2)",
     "output_type": "error",
     "traceback": [
      "\u001b[1;36m  File \u001b[1;32m\"<ipython-input-45-738ad0d65809>\"\u001b[1;36m, line \u001b[1;32m2\u001b[0m\n\u001b[1;33m    \"\"\"MENÚ\"\"\"\u001b[0m\n\u001b[1;37m    ^\u001b[0m\n\u001b[1;31mIndentationError\u001b[0m\u001b[1;31m:\u001b[0m expected an indented block\n"
     ]
    }
   ],
   "source": [
    "def menu():\n",
    "\"\"\"MENÚ\"\"\"\n",
    "    print \"\"\"*************MENÚ*********\n",
    "1)Suma\n",
    "2)Resta\n",
    "3)Multiplicación\n",
    "4)División\n",
    "5)Exponente\n",
    "6)Salir\"\"\"\n",
    "def calculadora():\n",
    "\"\"\"Calculando operaciones\"\"\"\n",
    "menu()\n",
    "op=int(input(\"¿Qué operación deasea realizar?\"))\n",
    "while (op>0 and op<6):\n",
    "    x=float(input(\"Introduzca el primer valor\"))\n",
    "    y= float(input(\"Introduzca el segundo valor\"))\n",
    "if op==1:\n",
    "    print(\"La suma es\", x+y)\n",
    "    elif op==2:\n",
    "        print(\"La resta es\", x-y)\n",
    "    elif op==3:\n",
    "        print(\"La multiplicación es\", x*y)\n",
    "    elif op==4:\n",
    "        print(\"La división es\", x/y)\n",
    "    elif op==5:\n",
    "        print(\"El exponente es\",x**y)\n",
    "    elif op==6\n",
    "    print(\"Espero haya sido de utilidad\")\n",
    "calculadora()\n"
   ]
  },
  {
   "cell_type": "code",
   "execution_count": 46,
   "metadata": {},
   "outputs": [],
   "source": [
    "#TUPLAS\n"
   ]
  },
  {
   "cell_type": "code",
   "execution_count": 47,
   "metadata": {},
   "outputs": [],
   "source": [
    "#crea una variable flotante, integer, boleana y compleja e imprimir el tipo de variable que es\n"
   ]
  },
  {
   "cell_type": "code",
   "execution_count": 58,
   "metadata": {},
   "outputs": [
    {
     "name": "stdout",
     "output_type": "stream",
     "text": [
      "<class 'float'> <class 'int'> <class 'bool'> <class 'complex'>\n"
     ]
    }
   ],
   "source": [
    "k=48.62\n",
    "m=9\n",
    "g=True\n",
    "r = 53+12.5j\n",
    "print(type(k), type(m), type(g), type(r))\n"
   ]
  },
  {
   "cell_type": "code",
   "execution_count": 54,
   "metadata": {},
   "outputs": [],
   "source": [
    "#crea una tupla con valores enteros imprimir el primer valor y el ultimo\n"
   ]
  },
  {
   "cell_type": "code",
   "execution_count": 61,
   "metadata": {},
   "outputs": [
    {
     "name": "stdout",
     "output_type": "stream",
     "text": [
      "2 20\n"
     ]
    }
   ],
   "source": [
    "tupla=(2,4,6,8,10,12,14,16,18,20)\n",
    "print(tupla[0], tupla[len(tupla)-1])"
   ]
  },
  {
   "cell_type": "code",
   "execution_count": 62,
   "metadata": {},
   "outputs": [],
   "source": [
    "#Añadir 3 valores de string a la tupla\n"
   ]
  },
  {
   "cell_type": "code",
   "execution_count": 64,
   "metadata": {},
   "outputs": [
    {
     "name": "stdout",
     "output_type": "stream",
     "text": [
      "(2, 4, 6, 8, 10, 12, 14, 16, 18, 20, 'Nombre', 'Matrícula', 'Sexo')\n"
     ]
    }
   ],
   "source": [
    "añadidos=(\"Nombre\", \"Matrícula\", \"Sexo\")\n",
    "tupla2=tupla+añadidos\n",
    "print(tupla2)"
   ]
  },
  {
   "cell_type": "code",
   "execution_count": 65,
   "metadata": {},
   "outputs": [],
   "source": [
    "#Verificar si una variable existe dentro de la tupla\n"
   ]
  },
  {
   "cell_type": "code",
   "execution_count": 68,
   "metadata": {},
   "outputs": [
    {
     "name": "stdout",
     "output_type": "stream",
     "text": [
      "5 NO se encuentra en la tupla\n"
     ]
    }
   ],
   "source": [
    "if \"5\" in tupla2:\n",
    "    print(\"5 se encuentra en la tupla\")\n",
    "else:\n",
    "        print(\"5 NO se encuentra en la tupla\")"
   ]
  },
  {
   "cell_type": "code",
   "execution_count": 69,
   "metadata": {},
   "outputs": [],
   "source": [
    "##LISTAS"
   ]
  },
  {
   "cell_type": "code",
   "execution_count": 70,
   "metadata": {},
   "outputs": [],
   "source": [
    "#Crea una lista con números aleatorios enteros"
   ]
  },
  {
   "cell_type": "code",
   "execution_count": 84,
   "metadata": {},
   "outputs": [
    {
     "name": "stdout",
     "output_type": "stream",
     "text": [
      "[14, 79, 71, 25, 59, 13, 76, 96, 90, 0, 64, 82, 52, 74, 46, 98, 83, 29, 26, 35, 5, 70, 80, 7, 7, 12, 63, 96, 53, 90, 61, 62, 54, 90, 65, 42, 62, 9, 46, 59]\n"
     ]
    }
   ],
   "source": [
    "import random as r\n",
    "lista=[]\n",
    "for i in range(1,41):\n",
    "    lista.append(r.randint(0,100))\n",
    "print (lista)"
   ]
  },
  {
   "cell_type": "code",
   "execution_count": 85,
   "metadata": {},
   "outputs": [],
   "source": [
    "#Con la funcion def crear dos listas nuevas a partir de la lista creada por numeros aleatorios en la cual en una esten los numeros pares y en otra los impares"
   ]
  },
  {
   "cell_type": "code",
   "execution_count": 120,
   "metadata": {},
   "outputs": [],
   "source": [
    "def clasificación(lista):\n",
    "    imp=[]\n",
    "    par=[]\n",
    "    \n",
    "    for i in range(len(lista)):\n",
    "        if lista[i]%2==0:\n",
    "            par.append(lista[i])\n",
    "        else:\n",
    "            imp.append(lista[i])\n",
    "    print(\"Estos numeros pertenecen a la lista de numeros pares\", par)\n",
    "    print(\"Estos numeros pertenecen a la lista de números impares\", imp)\n",
    "    return par, imp, \n",
    "        "
   ]
  },
  {
   "cell_type": "code",
   "execution_count": 121,
   "metadata": {},
   "outputs": [],
   "source": [
    "#crea dos variables con la longitud de ambas listas\n"
   ]
  },
  {
   "cell_type": "code",
   "execution_count": 123,
   "metadata": {},
   "outputs": [
    {
     "data": {
      "text/plain": [
       "21"
      ]
     },
     "execution_count": 123,
     "metadata": {},
     "output_type": "execute_result"
    }
   ],
   "source": [
    "par=[14,76,96,64,82,52,74,46,98,26,70,80,12,96,90,62,4,90,42,62,46]\n",
    "len(par)"
   ]
  },
  {
   "cell_type": "code",
   "execution_count": 124,
   "metadata": {},
   "outputs": [
    {
     "data": {
      "text/plain": [
       "19"
      ]
     },
     "execution_count": 124,
     "metadata": {},
     "output_type": "execute_result"
    }
   ],
   "source": [
    "impar=[79,71,25,29,59,13,83,29,35,5,7,7,63,53,61,5,65,9,59]\n",
    "len(impar)"
   ]
  },
  {
   "cell_type": "code",
   "execution_count": 125,
   "metadata": {},
   "outputs": [],
   "source": [
    "#ordene los elementos de la lista de menor a mayor(impar) y de mayor a menor(par)\n"
   ]
  },
  {
   "cell_type": "code",
   "execution_count": 131,
   "metadata": {},
   "outputs": [
    {
     "data": {
      "text/plain": [
       "[83, 79, 71, 65, 63, 61, 59, 59, 53, 35, 29, 29, 25, 13, 9, 7, 7, 5, 5]"
      ]
     },
     "execution_count": 131,
     "metadata": {},
     "output_type": "execute_result"
    }
   ],
   "source": [
    "impar=[79,71,25,29,59,13,83,29,35,5,7,7,63,53,61,5,65,9,59]\n",
    "impar.sort(reverse= True)\n",
    "impar"
   ]
  },
  {
   "cell_type": "code",
   "execution_count": 132,
   "metadata": {},
   "outputs": [
    {
     "data": {
      "text/plain": [
       "[4,\n",
       " 12,\n",
       " 14,\n",
       " 26,\n",
       " 42,\n",
       " 46,\n",
       " 46,\n",
       " 52,\n",
       " 62,\n",
       " 62,\n",
       " 64,\n",
       " 70,\n",
       " 74,\n",
       " 76,\n",
       " 80,\n",
       " 82,\n",
       " 90,\n",
       " 90,\n",
       " 96,\n",
       " 96,\n",
       " 98]"
      ]
     },
     "execution_count": 132,
     "metadata": {},
     "output_type": "execute_result"
    }
   ],
   "source": [
    "par=[14,76,96,64,82,52,74,46,98,26,70,80,12,96,90,62,4,90,42,62,46]\n",
    "par.sort( )\n",
    "par"
   ]
  },
  {
   "cell_type": "code",
   "execution_count": 133,
   "metadata": {},
   "outputs": [],
   "source": [
    "#DICCIONARIOS\n"
   ]
  },
  {
   "cell_type": "code",
   "execution_count": 134,
   "metadata": {},
   "outputs": [],
   "source": [
    "#crea un diccionario de 6 personas que conozcas y su edad"
   ]
  },
  {
   "cell_type": "code",
   "execution_count": 138,
   "metadata": {},
   "outputs": [
    {
     "name": "stdout",
     "output_type": "stream",
     "text": [
      "{'Óscar': 20, 'Vanessa': 21, 'Iridiana': 25, 'Kalev': 12, 'Carlos': 45, 'Blanca': 46}\n"
     ]
    }
   ],
   "source": [
    "diccionario ={\"Óscar\":20, \"Vanessa\":21, \"Iridiana\":25, \"Kalev\":12, \"Carlos\":45, \"Blanca\":46}\n",
    "print(diccionario)"
   ]
  },
  {
   "cell_type": "code",
   "execution_count": 137,
   "metadata": {},
   "outputs": [],
   "source": [
    "#crear una lista con los valores de edad y reacomodar la ista de menor a mayor"
   ]
  },
  {
   "cell_type": "code",
   "execution_count": 139,
   "metadata": {},
   "outputs": [
    {
     "name": "stdout",
     "output_type": "stream",
     "text": [
      "[12, 20, 21, 25, 45, 46]\n"
     ]
    }
   ],
   "source": [
    "diccedad=[diccionario[\"Óscar\"],diccionario[\"Vanessa\"],diccionario[\"Iridiana\"],diccionario[\"Kalev\"],diccionario[\"Carlos\"],diccionario[\"Blanca\"],]\n",
    "diccedad.sort()\n",
    "print(diccedad)"
   ]
  },
  {
   "cell_type": "code",
   "execution_count": 140,
   "metadata": {},
   "outputs": [],
   "source": [
    "#Usando el diccionario y un loop, imprimir solo los nombres\n"
   ]
  },
  {
   "cell_type": "code",
   "execution_count": 143,
   "metadata": {},
   "outputs": [
    {
     "name": "stdout",
     "output_type": "stream",
     "text": [
      "Óscar\n",
      "Vanessa\n",
      "Iridiana\n",
      "Kalev\n",
      "Carlos\n",
      "Blanca\n"
     ]
    }
   ],
   "source": [
    "for x in diccionario:\n",
    "    print(x)"
   ]
  },
  {
   "cell_type": "code",
   "execution_count": 144,
   "metadata": {},
   "outputs": [],
   "source": [
    "#Añadir dos personas nuevas a tu diccionario\n"
   ]
  },
  {
   "cell_type": "code",
   "execution_count": 146,
   "metadata": {},
   "outputs": [
    {
     "name": "stdout",
     "output_type": "stream",
     "text": [
      "{'Óscar': 20, 'Vanessa': 21, 'Iridiana': 25, 'Kalev': 12, 'Carlos': 45, 'Blanca': 46, 'Kenddy': 11, 'Jhoseline': 13}\n"
     ]
    }
   ],
   "source": [
    "diccionario[\"Kenddy\"]=11\n",
    "diccionario[\"Jhoseline\"]=13\n",
    "print(diccionario)"
   ]
  },
  {
   "cell_type": "code",
   "execution_count": 148,
   "metadata": {},
   "outputs": [],
   "source": [
    "##SETS\n"
   ]
  },
  {
   "cell_type": "code",
   "execution_count": 149,
   "metadata": {},
   "outputs": [],
   "source": [
    "#Crea un set con 100 numeros aleatorios enteros del 1 al25"
   ]
  },
  {
   "cell_type": "code",
   "execution_count": 153,
   "metadata": {},
   "outputs": [
    {
     "name": "stdout",
     "output_type": "stream",
     "text": [
      "5\n",
      "25\n",
      "23\n",
      "11\n",
      "21\n",
      "18\n",
      "17\n",
      "4\n",
      "8\n",
      "22\n",
      "3\n",
      "5\n",
      "9\n",
      "8\n",
      "1\n",
      "5\n",
      "25\n",
      "15\n",
      "16\n",
      "9\n",
      "1\n",
      "25\n",
      "8\n",
      "7\n",
      "9\n",
      "6\n",
      "25\n",
      "6\n",
      "1\n",
      "6\n",
      "2\n",
      "23\n",
      "4\n",
      "25\n",
      "11\n",
      "22\n",
      "19\n",
      "11\n",
      "5\n",
      "11\n",
      "22\n",
      "22\n",
      "4\n",
      "22\n",
      "3\n",
      "24\n",
      "15\n",
      "11\n",
      "14\n",
      "25\n",
      "9\n",
      "11\n",
      "7\n",
      "21\n",
      "8\n",
      "14\n",
      "4\n",
      "19\n",
      "16\n",
      "9\n",
      "19\n",
      "24\n",
      "4\n",
      "8\n",
      "18\n",
      "5\n",
      "8\n",
      "4\n",
      "20\n",
      "21\n",
      "4\n",
      "17\n",
      "4\n",
      "24\n",
      "13\n",
      "19\n",
      "5\n",
      "23\n",
      "11\n",
      "20\n",
      "23\n",
      "13\n",
      "23\n",
      "6\n",
      "22\n",
      "20\n",
      "1\n",
      "3\n",
      "25\n",
      "1\n",
      "13\n",
      "19\n",
      "1\n",
      "14\n",
      "9\n",
      "12\n",
      "3\n",
      "18\n",
      "16\n",
      "13\n"
     ]
    }
   ],
   "source": [
    "import random \n",
    "for i in range(100):\n",
    "    print(random.randint(1,25))"
   ]
  },
  {
   "cell_type": "code",
   "execution_count": 154,
   "metadata": {},
   "outputs": [],
   "source": [
    "#Comprueba la longitud de tu set\n"
   ]
  },
  {
   "cell_type": "code",
   "execution_count": 155,
   "metadata": {},
   "outputs": [
    {
     "data": {
      "text/plain": [
       "100"
      ]
     },
     "execution_count": 155,
     "metadata": {},
     "output_type": "execute_result"
    }
   ],
   "source": [
    "len(range(100))"
   ]
  },
  {
   "cell_type": "code",
   "execution_count": 156,
   "metadata": {},
   "outputs": [],
   "source": [
    "#crea una lista de 5 números aleatorios del 1 al 10 y comprueba sic ada valor pertenece a un set inicial\n"
   ]
  },
  {
   "cell_type": "code",
   "execution_count": 159,
   "metadata": {},
   "outputs": [
    {
     "name": "stdout",
     "output_type": "stream",
     "text": [
      "2\n",
      "4\n",
      "2\n",
      "5\n",
      "6\n"
     ]
    }
   ],
   "source": [
    "import random\n",
    "for i in range(5):\n",
    "    print(random.randrange(1,10))"
   ]
  },
  {
   "cell_type": "code",
   "execution_count": null,
   "metadata": {},
   "outputs": [],
   "source": []
  }
 ],
 "metadata": {
  "kernelspec": {
   "display_name": "Python 3",
   "language": "python",
   "name": "python3"
  },
  "language_info": {
   "codemirror_mode": {
    "name": "ipython",
    "version": 3
   },
   "file_extension": ".py",
   "mimetype": "text/x-python",
   "name": "python",
   "nbconvert_exporter": "python",
   "pygments_lexer": "ipython3",
   "version": "3.8.3"
  }
 },
 "nbformat": 4,
 "nbformat_minor": 4
}
